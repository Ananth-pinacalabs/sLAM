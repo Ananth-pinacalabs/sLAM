{
 "cells": [
  {
   "cell_type": "code",
   "execution_count": 1,
   "metadata": {},
   "outputs": [
    {
     "name": "stdout",
     "output_type": "stream",
     "text": [
      "pygame 2.5.2 (SDL 2.28.3, Python 3.12.3)\n",
      "Hello from the pygame community. https://www.pygame.org/contribute.html\n"
     ]
    }
   ],
   "source": [
    "import env, sensors, Features\n",
    "import random\n",
    "import pygame\n",
    "\n",
    "def random_color():\n",
    "    levels = range(32, 256, 32)\n",
    "    return tuple(random.choice(levels) for _ in range(3))\n",
    "\n",
    "FeatureMAP = Features.featureDetection()\n",
    "environment = env.buildEnvironment((600, 1200))\n",
    "originalMap = environment.map.copy()\n",
    "\n",
    "laser = sensors.LaserSensor(200, originalMap, uncertainty=(0.5, 0.01))\n",
    "environment.map.fill((255, 255, 255))\n",
    "environment.infomap = environment.map.copy()\n",
    "originalMap = environment.map.copy()\n",
    "\n",
    "running = True\n",
    "FEATURE_DETECTION = True\n",
    "BREAK_POINT_IND = 0\n",
    "\n",
    "\n",
    "while running:\n",
    "    # environment.infomap = originalMap.copy()\n",
    "    # FEATURE_DETECTION = True\n",
    "    # BREAK_POINT_IND = 0\n",
    "    # ENDPOINTS = [0, 0]\n",
    "    # sensorON = False\n",
    "    # PREDICTED_POINTS_TODRAW = []\n",
    "\n",
    "    for event in pygame.event.get():\n",
    "        if event.type == pygame.QUIT:\n",
    "            running = False\n",
    "\n",
    "    pygame.display.flip()\n",
    "\n",
    "    "
   ]
  },
  {
   "cell_type": "code",
   "execution_count": 1,
   "metadata": {},
   "outputs": [
    {
     "name": "stdout",
     "output_type": "stream",
     "text": [
      "pygame 2.5.2 (SDL 2.28.3, Python 3.12.3)\n",
      "Hello from the pygame community. https://www.pygame.org/contribute.html\n"
     ]
    },
    {
     "ename": "KeyboardInterrupt",
     "evalue": "",
     "output_type": "error",
     "traceback": [
      "\u001b[1;31m---------------------------------------------------------------------------\u001b[0m",
      "\u001b[1;31mKeyboardInterrupt\u001b[0m                         Traceback (most recent call last)",
      "Cell \u001b[1;32mIn[1], line 12\u001b[0m\n\u001b[0;32m      8\u001b[0m running \u001b[38;5;241m=\u001b[39m \u001b[38;5;28;01mTrue\u001b[39;00m\n\u001b[0;32m     11\u001b[0m \u001b[38;5;28;01mwhile\u001b[39;00m running:\n\u001b[1;32m---> 12\u001b[0m      events \u001b[38;5;241m=\u001b[39m \u001b[43mpygame\u001b[49m\u001b[38;5;241;43m.\u001b[39;49m\u001b[43mevent\u001b[49m\u001b[38;5;241;43m.\u001b[39;49m\u001b[43mget\u001b[49m\u001b[43m(\u001b[49m\u001b[43m)\u001b[49m\n\u001b[0;32m     13\u001b[0m      \u001b[38;5;28;01mfor\u001b[39;00m event \u001b[38;5;129;01min\u001b[39;00m events:\n\u001b[0;32m     14\u001b[0m           \u001b[38;5;28;01mif\u001b[39;00m event \u001b[38;5;241m==\u001b[39m pygame\u001b[38;5;241m.\u001b[39mQUIT:\n",
      "\u001b[1;31mKeyboardInterrupt\u001b[0m: "
     ]
    }
   ],
   "source": [
    "import pygame\n",
    "\n",
    "\n",
    "import env, sensors\n",
    "\n",
    "\n",
    "environment = env.buildEnvironment((600, 1200))\n",
    "running = True\n",
    "\n",
    "\n",
    "while running:\n",
    "     events = pygame.event.get()\n",
    "     for event in events:\n",
    "          if event == pygame.QUIT:\n",
    "               running = False"
   ]
  },
  {
   "cell_type": "code",
   "execution_count": null,
   "metadata": {},
   "outputs": [],
   "source": [
    " pygame.init()\n",
    "        self.pointCloud = []\n",
    "        self.externalMap = pygame.image.load(\"map.png\")\n",
    "        self.maph, self.mapw = MapDimensions\n",
    "        self.windowName = \"RRT path planning\"\n",
    "        pygame.display.set_caption(self.windowName)\n",
    "        self.map = pygame.display.set_mode((self.mapw, self.maph))\n",
    "        self.map.blit(self.externalMap, (0,0))\n"
   ]
  },
  {
   "cell_type": "code",
   "execution_count": 1,
   "metadata": {},
   "outputs": [
    {
     "name": "stdout",
     "output_type": "stream",
     "text": [
      "pygame 2.5.2 (SDL 2.28.3, Python 3.12.3)\n",
      "Hello from the pygame community. https://www.pygame.org/contribute.html\n"
     ]
    }
   ],
   "source": [
    "import pygame\n",
    "pygame.init()\n",
    "image = pygame.image.load(\"map.png\")\n",
    "pygame.display.set_caption(\"name\")\n",
    "map = pygame.display.set_mode((1200, 600))\n",
    "map.blit(image, (0, 0))\n",
    "running = True\n",
    "\n",
    "while running:\n",
    "    events = pygame.event.get()\n",
    "    for event in events:\n",
    "        if event.type == pygame.QUIT:\n",
    "            running = False\n",
    "\n"
   ]
  },
  {
   "cell_type": "code",
   "execution_count": null,
   "metadata": {},
   "outputs": [],
   "source": []
  }
 ],
 "metadata": {
  "kernelspec": {
   "display_name": "Python 3",
   "language": "python",
   "name": "python3"
  },
  "language_info": {
   "codemirror_mode": {
    "name": "ipython",
    "version": 3
   },
   "file_extension": ".py",
   "mimetype": "text/x-python",
   "name": "python",
   "nbconvert_exporter": "python",
   "pygments_lexer": "ipython3",
   "version": "3.12.3"
  }
 },
 "nbformat": 4,
 "nbformat_minor": 2
}
